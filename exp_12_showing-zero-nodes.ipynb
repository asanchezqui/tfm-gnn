{
 "cells": [
  {
   "attachments": {},
   "cell_type": "markdown",
   "metadata": {},
   "source": [
    "## Analysing the quantity of nodes with zero Betweenness Centrality for the different types of synthetic graphs considered\n",
    "\n",
    "In this notebook some analysis is performed related to the quantity of nodes with zero betweenness centrality for the different synthetic graphs\n",
    "\n",
    "This notebook is related to the results of section 3.3.4"
   ]
  },
  {
   "cell_type": "code",
   "execution_count": 1,
   "metadata": {},
   "outputs": [
    {
     "data": {
      "text/html": [
       "\n",
       "\t\t\t<script type=\"text/javascript\">\n",
       "\t\t\t<!--\n",
       "\t\t\t\t\n",
       "\t\t\t{\n",
       "\t\t\t\tvar element = document.getElementById('NetworKit_script');\n",
       "\t\t\t\tif (element) {\n",
       "\t\t\t\t\telement.parentNode.removeChild(element);\n",
       "\t\t\t\t}\n",
       "\t\t\t\telement = document.createElement('script');\n",
       "\t\t\t\telement.type = 'text/javascript';\n",
       "\t\t\t\telement.innerHTML = 'function NetworKit_pageEmbed(id) { var i, j; var elements; elements = document.getElementById(id).getElementsByClassName(\"Plot\"); for (i=0; i<elements.length; i++) { elements[i].id = id + \"_Plot_\" + i; var data = elements[i].getAttribute(\"data-image\").split(\"|\"); elements[i].removeAttribute(\"data-image\"); var content = \"<div class=\\\\\"Image\\\\\" id=\\\\\"\" + elements[i].id + \"_Image\\\\\" />\"; elements[i].innerHTML = content; elements[i].setAttribute(\"data-image-index\", 0); elements[i].setAttribute(\"data-image-length\", data.length); for (j=0; j<data.length; j++) { elements[i].setAttribute(\"data-image-\" + j, data[j]); } NetworKit_plotUpdate(elements[i]); elements[i].onclick = function (e) { NetworKit_overlayShow((e.target) ? e.target : e.srcElement); } } elements = document.getElementById(id).getElementsByClassName(\"HeatCell\"); for (i=0; i<elements.length; i++) { var data = parseFloat(elements[i].getAttribute(\"data-heat\")); var color = \"#00FF00\"; if (data <= 1 && data > 0) { color = \"hsla(0, 100%, 75%, \" + (data) + \")\"; } else if (data <= 0 && data >= -1) { color = \"hsla(240, 100%, 75%, \" + (-data) + \")\"; } elements[i].style.backgroundColor = color; } elements = document.getElementById(id).getElementsByClassName(\"Details\"); for (i=0; i<elements.length; i++) { elements[i].setAttribute(\"data-title\", \"-\"); NetworKit_toggleDetails(elements[i]); elements[i].onclick = function (e) { NetworKit_toggleDetails((e.target) ? e.target : e.srcElement); } } elements = document.getElementById(id).getElementsByClassName(\"MathValue\"); for (i=elements.length-1; i>=0; i--) { value = elements[i].innerHTML.trim(); if (value === \"nan\") { elements[i].parentNode.innerHTML = \"\" } } elements = document.getElementById(id).getElementsByClassName(\"SubCategory\"); for (i=elements.length-1; i>=0; i--) { value = elements[i].innerHTML.trim(); if (value === \"\") { elements[i].parentNode.removeChild(elements[i]) } } elements = document.getElementById(id).getElementsByClassName(\"Category\"); for (i=elements.length-1; i>=0; i--) { value = elements[i].innerHTML.trim(); if (value === \"\") { elements[i].parentNode.removeChild(elements[i]) } } var isFirefox = false; try { isFirefox = typeof InstallTrigger !== \"undefined\"; } catch (e) {} if (!isFirefox) { alert(\"Currently the function\\'s output is only fully supported by Firefox.\"); } } function NetworKit_plotUpdate(source) { var index = source.getAttribute(\"data-image-index\"); var data = source.getAttribute(\"data-image-\" + index); var image = document.getElementById(source.id + \"_Image\"); image.style.backgroundImage = \"url(\" + data + \")\"; } function NetworKit_showElement(id, show) { var element = document.getElementById(id); element.style.display = (show) ? \"block\" : \"none\"; } function NetworKit_overlayShow(source) { NetworKit_overlayUpdate(source); NetworKit_showElement(\"NetworKit_Overlay\", true); } function NetworKit_overlayUpdate(source) { document.getElementById(\"NetworKit_Overlay_Title\").innerHTML = source.title; var index = source.getAttribute(\"data-image-index\"); var data = source.getAttribute(\"data-image-\" + index); var image = document.getElementById(\"NetworKit_Overlay_Image\"); image.setAttribute(\"data-id\", source.id); image.style.backgroundImage = \"url(\" + data + \")\"; var link = document.getElementById(\"NetworKit_Overlay_Toolbar_Bottom_Save\"); link.href = data; link.download = source.title + \".svg\"; } function NetworKit_overlayImageShift(delta) { var image = document.getElementById(\"NetworKit_Overlay_Image\"); var source = document.getElementById(image.getAttribute(\"data-id\")); var index = parseInt(source.getAttribute(\"data-image-index\")); var length = parseInt(source.getAttribute(\"data-image-length\")); var index = (index+delta) % length; if (index < 0) { index = length + index; } source.setAttribute(\"data-image-index\", index); NetworKit_overlayUpdate(source); } function NetworKit_toggleDetails(source) { var childs = source.children; var show = false; if (source.getAttribute(\"data-title\") == \"-\") { source.setAttribute(\"data-title\", \"+\"); show = false; } else { source.setAttribute(\"data-title\", \"-\"); show = true; } for (i=0; i<childs.length; i++) { if (show) { childs[i].style.display = \"block\"; } else { childs[i].style.display = \"none\"; } } }';\n",
       "\t\t\t\telement.setAttribute('id', 'NetworKit_script');\n",
       "\t\t\t\tdocument.head.appendChild(element);\n",
       "\t\t\t}\n",
       "\t\t\n",
       "\t\t\t\t\n",
       "\t\t\t{\n",
       "\t\t\t\tvar element = document.getElementById('NetworKit_style');\n",
       "\t\t\t\tif (element) {\n",
       "\t\t\t\t\telement.parentNode.removeChild(element);\n",
       "\t\t\t\t}\n",
       "\t\t\t\telement = document.createElement('style');\n",
       "\t\t\t\telement.type = 'text/css';\n",
       "\t\t\t\telement.innerHTML = '.NetworKit_Page { font-family: Arial, Helvetica, sans-serif; font-size: 14px; } .NetworKit_Page .Value:before { font-family: Arial, Helvetica, sans-serif; font-size: 1.05em; content: attr(data-title) \":\"; margin-left: -2.5em; padding-right: 0.5em; } .NetworKit_Page .Details .Value:before { display: block; } .NetworKit_Page .Value { font-family: monospace; white-space: pre; padding-left: 2.5em; white-space: -moz-pre-wrap !important; white-space: -pre-wrap; white-space: -o-pre-wrap; white-space: pre-wrap; word-wrap: break-word; tab-size: 4; -moz-tab-size: 4; } .NetworKit_Page .Category { clear: both; padding-left: 1em; margin-bottom: 1.5em; } .NetworKit_Page .Category:before { content: attr(data-title); font-size: 1.75em; display: block; margin-left: -0.8em; margin-bottom: 0.5em; } .NetworKit_Page .SubCategory { margin-bottom: 1.5em; padding-left: 1em; } .NetworKit_Page .SubCategory:before { font-size: 1.6em; display: block; margin-left: -0.8em; margin-bottom: 0.5em; } .NetworKit_Page .SubCategory[data-title]:before { content: attr(data-title); } .NetworKit_Page .Block { display: block; } .NetworKit_Page .Block:after { content: \".\"; visibility: hidden; display: block; height: 0; clear: both; } .NetworKit_Page .Block .Thumbnail_Overview, .NetworKit_Page .Block .Thumbnail_ScatterPlot { width: 260px; float: left; } .NetworKit_Page .Block .Thumbnail_Overview img, .NetworKit_Page .Block .Thumbnail_ScatterPlot img { width: 260px; } .NetworKit_Page .Block .Thumbnail_Overview:before, .NetworKit_Page .Block .Thumbnail_ScatterPlot:before { display: block; text-align: center; font-weight: bold; } .NetworKit_Page .Block .Thumbnail_Overview:before { content: attr(data-title); } .NetworKit_Page .HeatCell { font-family: \"Courier New\", Courier, monospace; cursor: pointer; } .NetworKit_Page .HeatCell, .NetworKit_Page .HeatCellName { display: inline; padding: 0.1em; margin-right: 2px; background-color: #FFFFFF } .NetworKit_Page .HeatCellName { margin-left: 0.25em; } .NetworKit_Page .HeatCell:before { content: attr(data-heat); display: inline-block; color: #000000; width: 4em; text-align: center; } .NetworKit_Page .Measure { clear: both; } .NetworKit_Page .Measure .Details { cursor: pointer; } .NetworKit_Page .Measure .Details:before { content: \"[\" attr(data-title) \"]\"; display: block; } .NetworKit_Page .Measure .Details .Value { border-left: 1px dotted black; margin-left: 0.4em; padding-left: 3.5em; pointer-events: none; } .NetworKit_Page .Measure .Details .Spacer:before { content: \".\"; opacity: 0.0; pointer-events: none; } .NetworKit_Page .Measure .Plot { width: 440px; height: 440px; cursor: pointer; float: left; margin-left: -0.9em; margin-right: 20px; } .NetworKit_Page .Measure .Plot .Image { background-repeat: no-repeat; background-position: center center; background-size: contain; height: 100%; pointer-events: none; } .NetworKit_Page .Measure .Stat { width: 500px; float: left; } .NetworKit_Page .Measure .Stat .Group { padding-left: 1.25em; margin-bottom: 0.75em; } .NetworKit_Page .Measure .Stat .Group .Title { font-size: 1.1em; display: block; margin-bottom: 0.3em; margin-left: -0.75em; border-right-style: dotted; border-right-width: 1px; border-bottom-style: dotted; border-bottom-width: 1px; background-color: #D0D0D0; padding-left: 0.2em; } .NetworKit_Page .Measure .Stat .Group .List { -webkit-column-count: 3; -moz-column-count: 3; column-count: 3; } .NetworKit_Page .Measure .Stat .Group .List .Entry { position: relative; line-height: 1.75em; } .NetworKit_Page .Measure .Stat .Group .List .Entry[data-tooltip]:before { position: absolute; left: 0; top: -40px; background-color: #808080; color: #ffffff; height: 30px; line-height: 30px; border-radius: 5px; padding: 0 15px; content: attr(data-tooltip); white-space: nowrap; display: none; } .NetworKit_Page .Measure .Stat .Group .List .Entry[data-tooltip]:after { position: absolute; left: 15px; top: -10px; border-top: 7px solid #808080; border-left: 7px solid transparent; border-right: 7px solid transparent; content: \"\"; display: none; } .NetworKit_Page .Measure .Stat .Group .List .Entry[data-tooltip]:hover:after, .NetworKit_Page .Measure .Stat .Group .List .Entry[data-tooltip]:hover:before { display: block; } .NetworKit_Page .Measure .Stat .Group .List .Entry .MathValue { font-family: \"Courier New\", Courier, monospace; } .NetworKit_Page .Measure:after { content: \".\"; visibility: hidden; display: block; height: 0; clear: both; } .NetworKit_Page .PartitionPie { clear: both; } .NetworKit_Page .PartitionPie img { width: 600px; } #NetworKit_Overlay { left: 0px; top: 0px; display: none; position: absolute; width: 100%; height: 100%; background-color: rgba(0,0,0,0.6); z-index: 1000; } #NetworKit_Overlay_Title { position: absolute; color: white; transform: rotate(-90deg); width: 32em; height: 32em; padding-right: 0.5em; padding-top: 0.5em; text-align: right; font-size: 40px; } #NetworKit_Overlay .button { background: white; cursor: pointer; } #NetworKit_Overlay .button:before { size: 13px; display: inline-block; text-align: center; margin-top: 0.5em; margin-bottom: 0.5em; width: 1.5em; height: 1.5em; } #NetworKit_Overlay .icon-close:before { content: \"X\"; } #NetworKit_Overlay .icon-previous:before { content: \"P\"; } #NetworKit_Overlay .icon-next:before { content: \"N\"; } #NetworKit_Overlay .icon-save:before { content: \"S\"; } #NetworKit_Overlay_Toolbar_Top, #NetworKit_Overlay_Toolbar_Bottom { position: absolute; width: 40px; right: 13px; text-align: right; z-index: 1100; } #NetworKit_Overlay_Toolbar_Top { top: 0.5em; } #NetworKit_Overlay_Toolbar_Bottom { Bottom: 0.5em; } #NetworKit_Overlay_ImageContainer { position: absolute; top: 5%; left: 5%; height: 90%; width: 90%; background-repeat: no-repeat; background-position: center center; background-size: contain; } #NetworKit_Overlay_Image { height: 100%; width: 100%; background-repeat: no-repeat; background-position: center center; background-size: contain; }';\n",
       "\t\t\t\telement.setAttribute('id', 'NetworKit_style');\n",
       "\t\t\t\tdocument.head.appendChild(element);\n",
       "\t\t\t}\n",
       "\t\t\n",
       "\t\t\t\t\n",
       "\t\t\t{\n",
       "\t\t\t\tvar element = document.getElementById('NetworKit_Overlay');\n",
       "\t\t\t\tif (element) {\n",
       "\t\t\t\t\telement.parentNode.removeChild(element);\n",
       "\t\t\t\t}\n",
       "\t\t\t\telement = document.createElement('div');\n",
       "\t\t\t\telement.innerHTML = '<div id=\"NetworKit_Overlay_Toolbar_Top\"><div class=\"button icon-close\" id=\"NetworKit_Overlay_Close\" /></div><div id=\"NetworKit_Overlay_Title\" /> <div id=\"NetworKit_Overlay_ImageContainer\"> <div id=\"NetworKit_Overlay_Image\" /> </div> <div id=\"NetworKit_Overlay_Toolbar_Bottom\"> <div class=\"button icon-previous\" onclick=\"NetworKit_overlayImageShift(-1)\" /> <div class=\"button icon-next\" onclick=\"NetworKit_overlayImageShift(1)\" /> <a id=\"NetworKit_Overlay_Toolbar_Bottom_Save\"><div class=\"button icon-save\" /></a> </div>';\n",
       "\t\t\t\telement.setAttribute('id', 'NetworKit_Overlay');\n",
       "\t\t\t\tdocument.body.appendChild(element);\n",
       "\t\t\t\tdocument.getElementById('NetworKit_Overlay_Close').onclick = function (e) {\n",
       "\t\t\t\t\tdocument.getElementById('NetworKit_Overlay').style.display = 'none';\n",
       "\t\t\t\t}\n",
       "\t\t\t}\n",
       "\t\t\n",
       "\t\t\t-->\n",
       "\t\t\t</script>\n",
       "\t\t"
      ]
     },
     "metadata": {},
     "output_type": "display_data"
    }
   ],
   "source": [
    "from functions.utils import *"
   ]
  },
  {
   "attachments": {},
   "cell_type": "markdown",
   "metadata": {},
   "source": [
    "### Some functions are defined for computing the percentages of zero BC nodes and plotting the results"
   ]
  },
  {
   "cell_type": "code",
   "execution_count": 8,
   "metadata": {},
   "outputs": [],
   "source": [
    "import matplotlib.pyplot as plt\n",
    "\n",
    "def showing_zero_nodes(f):\n",
    "    with open(f,'rb') as f:\n",
    "        data = pickle.load(f)\n",
    "    \n",
    "    results = {}\n",
    "    #for id in range(len(data)):\n",
    "    for id in range(len(data)):\n",
    "        n = 0\n",
    "        \n",
    "        total_nodes = len(list(data[id][1].keys()))\n",
    "        print(\"Nodes: \",total_nodes)\n",
    "        for key in data[id][1]:\n",
    "            if data[id][1][key] == 0:\n",
    "                n += 1\n",
    "        results[id] = {'id': id, 'n': total_nodes, 'zeros': n, 'zeros_percentage': n/total_nodes*100}\n",
    "        print(results[id])\n",
    "    return results\n",
    "    \n",
    "def plotting(p,t,max_graphs=None):\n",
    "    if max_graphs == None:\n",
    "        xs = [p[k]['id'] for k in list(p.keys())]\n",
    "        ys = [p[k]['zeros_percentage'] for k in list(p.keys())]\n",
    "    else:\n",
    "        xs = [p[k]['id'] for k in list(p.keys())][:max_graphs]\n",
    "        ys = [p[k]['zeros_percentage'] for k in list(p.keys())][:max_graphs]      \n",
    "    for i, v in enumerate(ys):\n",
    "        plt.text(xs[i] - 0.3, v + 1.5, str(round(v,2)),fontsize='small')\n",
    "    plt.bar(xs ,ys,color='lightcoral')\n",
    "    plt.ylim(0,100)\n",
    "    plt.title(t)\n",
    "    plt.xlabel(\"Graph id\")\n",
    "    plt.ylabel(\"Percentage of zero nodes\")\n",
    "    plt.xticks(xs,[x+1 for x in xs])\n",
    "    plt.savefig(t,dpi=300)\n",
    "\n",
    "    plt.clf()\n"
   ]
  },
  {
   "cell_type": "code",
   "execution_count": 9,
   "metadata": {},
   "outputs": [
    {
     "name": "stdout",
     "output_type": "stream",
     "text": [
      "Nodes:  8791\n",
      "{'id': 0, 'n': 8791, 'zeros': 4, 'zeros_percentage': 0.04550108065066545}\n",
      "Nodes:  5088\n",
      "{'id': 1, 'n': 5088, 'zeros': 175, 'zeros_percentage': 3.4394654088050314}\n",
      "Nodes:  9822\n",
      "{'id': 2, 'n': 9822, 'zeros': 49, 'zeros_percentage': 0.49888006515984523}\n",
      "Nodes:  7912\n",
      "{'id': 3, 'n': 7912, 'zeros': 56, 'zeros_percentage': 0.7077856420626896}\n",
      "Nodes:  8214\n",
      "{'id': 4, 'n': 8214, 'zeros': 135, 'zeros_percentage': 1.643535427319211}\n",
      "Nodes:  9059\n",
      "{'id': 5, 'n': 9059, 'zeros': 519, 'zeros_percentage': 5.729109173197925}\n",
      "Nodes:  9025\n",
      "{'id': 6, 'n': 9025, 'zeros': 458, 'zeros_percentage': 5.0747922437673125}\n",
      "Nodes:  7065\n",
      "{'id': 7, 'n': 7065, 'zeros': 10, 'zeros_percentage': 0.14154281670205238}\n",
      "Nodes:  6286\n",
      "{'id': 8, 'n': 6286, 'zeros': 2, 'zeros_percentage': 0.03181673560292714}\n",
      "Nodes:  9556\n",
      "{'id': 9, 'n': 9556, 'zeros': 2449, 'zeros_percentage': 25.627877773126833}\n"
     ]
    },
    {
     "data": {
      "text/plain": [
       "<Figure size 432x288 with 0 Axes>"
      ]
     },
     "metadata": {},
     "output_type": "display_data"
    }
   ],
   "source": [
    "graph_type = 'ER'\n",
    "num_of_graphs =  10\n",
    "max_nodes = 10000\n",
    "min_nodes = 5000\n",
    "f = f\"./graphs/{graph_type}_{num_of_graphs}_graphs_{max_nodes}_{min_nodes}_nodes.pickle\"\n",
    "\n",
    "p = showing_zero_nodes(f)\n",
    "plotting(p,f'Betweenness({graph_type})')"
   ]
  },
  {
   "cell_type": "code",
   "execution_count": 11,
   "metadata": {},
   "outputs": [
    {
     "name": "stdout",
     "output_type": "stream",
     "text": [
      "Nodes:  7529\n",
      "{'id': 0, 'n': 7529, 'zeros': 6558, 'zeros_percentage': 87.1032009563023}\n",
      "Nodes:  5009\n",
      "{'id': 1, 'n': 5009, 'zeros': 4329, 'zeros_percentage': 86.42443601517269}\n",
      "Nodes:  5749\n",
      "{'id': 2, 'n': 5749, 'zeros': 5013, 'zeros_percentage': 87.19777352583058}\n",
      "Nodes:  5491\n",
      "{'id': 3, 'n': 5491, 'zeros': 4833, 'zeros_percentage': 88.01675468949189}\n",
      "Nodes:  7183\n",
      "{'id': 4, 'n': 7183, 'zeros': 6295, 'zeros_percentage': 87.63747737714047}\n",
      "Nodes:  7700\n",
      "{'id': 5, 'n': 7700, 'zeros': 6723, 'zeros_percentage': 87.3116883116883}\n",
      "Nodes:  8285\n",
      "{'id': 6, 'n': 8285, 'zeros': 7274, 'zeros_percentage': 87.79722389861195}\n",
      "Nodes:  8140\n",
      "{'id': 7, 'n': 8140, 'zeros': 7107, 'zeros_percentage': 87.30958230958231}\n",
      "Nodes:  8941\n",
      "{'id': 8, 'n': 8941, 'zeros': 7761, 'zeros_percentage': 86.80237109942959}\n",
      "Nodes:  5701\n",
      "{'id': 9, 'n': 5701, 'zeros': 4976, 'zeros_percentage': 87.28293281880372}\n"
     ]
    },
    {
     "data": {
      "text/plain": [
       "<Figure size 432x288 with 0 Axes>"
      ]
     },
     "metadata": {},
     "output_type": "display_data"
    }
   ],
   "source": [
    "graph_type = 'SF'\n",
    "num_of_graphs =  10\n",
    "max_nodes = 10000\n",
    "min_nodes = 5000\n",
    "f = f\"./graphs/{graph_type}_{num_of_graphs}_graphs_{max_nodes}_{min_nodes}_nodes.pickle\"\n",
    "\n",
    "p = showing_zero_nodes(f)\n",
    "plotting(p,f'Betweenness({graph_type})')"
   ]
  },
  {
   "cell_type": "code",
   "execution_count": 12,
   "metadata": {},
   "outputs": [
    {
     "name": "stdout",
     "output_type": "stream",
     "text": [
      "Nodes:  6630\n",
      "{'id': 0, 'n': 6630, 'zeros': 0, 'zeros_percentage': 0.0}\n",
      "Nodes:  5274\n",
      "{'id': 1, 'n': 5274, 'zeros': 5, 'zeros_percentage': 0.09480470231323473}\n",
      "Nodes:  7986\n",
      "{'id': 2, 'n': 7986, 'zeros': 1, 'zeros_percentage': 0.012521913348359628}\n",
      "Nodes:  6115\n",
      "{'id': 3, 'n': 6115, 'zeros': 0, 'zeros_percentage': 0.0}\n",
      "Nodes:  7541\n",
      "{'id': 4, 'n': 7541, 'zeros': 0, 'zeros_percentage': 0.0}\n",
      "Nodes:  6370\n",
      "{'id': 5, 'n': 6370, 'zeros': 1, 'zeros_percentage': 0.015698587127158554}\n",
      "Nodes:  8681\n",
      "{'id': 6, 'n': 8681, 'zeros': 0, 'zeros_percentage': 0.0}\n",
      "Nodes:  7932\n",
      "{'id': 7, 'n': 7932, 'zeros': 29, 'zeros_percentage': 0.3656076651538074}\n",
      "Nodes:  8378\n",
      "{'id': 8, 'n': 8378, 'zeros': 0, 'zeros_percentage': 0.0}\n",
      "Nodes:  5268\n",
      "{'id': 9, 'n': 5268, 'zeros': 0, 'zeros_percentage': 0.0}\n"
     ]
    },
    {
     "data": {
      "text/plain": [
       "<Figure size 432x288 with 0 Axes>"
      ]
     },
     "metadata": {},
     "output_type": "display_data"
    }
   ],
   "source": [
    "graph_type = 'GRP'\n",
    "num_of_graphs =  10\n",
    "max_nodes = 10000\n",
    "min_nodes = 5000\n",
    "f = f\"./graphs/{graph_type}_{num_of_graphs}_graphs_{max_nodes}_{min_nodes}_nodes.pickle\"\n",
    "\n",
    "p = showing_zero_nodes(f)\n",
    "plotting(p,f'Betweenness({graph_type})')"
   ]
  },
  {
   "cell_type": "code",
   "execution_count": 13,
   "metadata": {},
   "outputs": [
    {
     "name": "stdout",
     "output_type": "stream",
     "text": [
      "Nodes:  10000\n",
      "{'id': 0, 'n': 10000, 'zeros': 3153, 'zeros_percentage': 31.53}\n",
      "Nodes:  10000\n",
      "{'id': 1, 'n': 10000, 'zeros': 3278, 'zeros_percentage': 32.78}\n",
      "Nodes:  10000\n",
      "{'id': 2, 'n': 10000, 'zeros': 3217, 'zeros_percentage': 32.17}\n",
      "Nodes:  10000\n",
      "{'id': 3, 'n': 10000, 'zeros': 3299, 'zeros_percentage': 32.99}\n",
      "Nodes:  10000\n",
      "{'id': 4, 'n': 10000, 'zeros': 3285, 'zeros_percentage': 32.85}\n",
      "Nodes:  10000\n",
      "{'id': 5, 'n': 10000, 'zeros': 3280, 'zeros_percentage': 32.800000000000004}\n",
      "Nodes:  10000\n",
      "{'id': 6, 'n': 10000, 'zeros': 3207, 'zeros_percentage': 32.07}\n",
      "Nodes:  10000\n",
      "{'id': 7, 'n': 10000, 'zeros': 3174, 'zeros_percentage': 31.740000000000002}\n",
      "Nodes:  10000\n",
      "{'id': 8, 'n': 10000, 'zeros': 3255, 'zeros_percentage': 32.550000000000004}\n",
      "Nodes:  10000\n",
      "{'id': 9, 'n': 10000, 'zeros': 3229, 'zeros_percentage': 32.29}\n",
      "Nodes:  10000\n",
      "{'id': 10, 'n': 10000, 'zeros': 3167, 'zeros_percentage': 31.669999999999998}\n",
      "Nodes:  10000\n",
      "{'id': 11, 'n': 10000, 'zeros': 3237, 'zeros_percentage': 32.37}\n",
      "Nodes:  10000\n",
      "{'id': 12, 'n': 10000, 'zeros': 3246, 'zeros_percentage': 32.46}\n",
      "Nodes:  10000\n",
      "{'id': 13, 'n': 10000, 'zeros': 3346, 'zeros_percentage': 33.46}\n",
      "Nodes:  10000\n",
      "{'id': 14, 'n': 10000, 'zeros': 3273, 'zeros_percentage': 32.73}\n",
      "Nodes:  10000\n",
      "{'id': 15, 'n': 10000, 'zeros': 3220, 'zeros_percentage': 32.2}\n",
      "Nodes:  10000\n",
      "{'id': 16, 'n': 10000, 'zeros': 3373, 'zeros_percentage': 33.73}\n",
      "Nodes:  10000\n",
      "{'id': 17, 'n': 10000, 'zeros': 3209, 'zeros_percentage': 32.09}\n",
      "Nodes:  10000\n",
      "{'id': 18, 'n': 10000, 'zeros': 3236, 'zeros_percentage': 32.36}\n",
      "Nodes:  10000\n",
      "{'id': 19, 'n': 10000, 'zeros': 3344, 'zeros_percentage': 33.44}\n",
      "Nodes:  10000\n",
      "{'id': 20, 'n': 10000, 'zeros': 3275, 'zeros_percentage': 32.75}\n",
      "Nodes:  10000\n",
      "{'id': 21, 'n': 10000, 'zeros': 3177, 'zeros_percentage': 31.77}\n",
      "Nodes:  10000\n",
      "{'id': 22, 'n': 10000, 'zeros': 3243, 'zeros_percentage': 32.43}\n",
      "Nodes:  10000\n",
      "{'id': 23, 'n': 10000, 'zeros': 3324, 'zeros_percentage': 33.239999999999995}\n",
      "Nodes:  10000\n",
      "{'id': 24, 'n': 10000, 'zeros': 3265, 'zeros_percentage': 32.65}\n",
      "Nodes:  10000\n",
      "{'id': 25, 'n': 10000, 'zeros': 3286, 'zeros_percentage': 32.86}\n",
      "Nodes:  10000\n",
      "{'id': 26, 'n': 10000, 'zeros': 3332, 'zeros_percentage': 33.32}\n",
      "Nodes:  10000\n",
      "{'id': 27, 'n': 10000, 'zeros': 3240, 'zeros_percentage': 32.4}\n",
      "Nodes:  10000\n",
      "{'id': 28, 'n': 10000, 'zeros': 3168, 'zeros_percentage': 31.680000000000003}\n",
      "Nodes:  10000\n",
      "{'id': 29, 'n': 10000, 'zeros': 3356, 'zeros_percentage': 33.56}\n",
      "Nodes:  10000\n",
      "{'id': 30, 'n': 10000, 'zeros': 3376, 'zeros_percentage': 33.76}\n",
      "Nodes:  10000\n",
      "{'id': 31, 'n': 10000, 'zeros': 3215, 'zeros_percentage': 32.15}\n",
      "Nodes:  10000\n",
      "{'id': 32, 'n': 10000, 'zeros': 3254, 'zeros_percentage': 32.54}\n",
      "Nodes:  10000\n",
      "{'id': 33, 'n': 10000, 'zeros': 3190, 'zeros_percentage': 31.900000000000002}\n",
      "Nodes:  10000\n",
      "{'id': 34, 'n': 10000, 'zeros': 3221, 'zeros_percentage': 32.21}\n",
      "Nodes:  10000\n",
      "{'id': 35, 'n': 10000, 'zeros': 3368, 'zeros_percentage': 33.68}\n",
      "Nodes:  10000\n",
      "{'id': 36, 'n': 10000, 'zeros': 3239, 'zeros_percentage': 32.39}\n",
      "Nodes:  10000\n",
      "{'id': 37, 'n': 10000, 'zeros': 3192, 'zeros_percentage': 31.919999999999998}\n",
      "Nodes:  10000\n",
      "{'id': 38, 'n': 10000, 'zeros': 3174, 'zeros_percentage': 31.740000000000002}\n",
      "Nodes:  10000\n",
      "{'id': 39, 'n': 10000, 'zeros': 3266, 'zeros_percentage': 32.66}\n",
      "Nodes:  10000\n",
      "{'id': 40, 'n': 10000, 'zeros': 3236, 'zeros_percentage': 32.36}\n",
      "Nodes:  10000\n",
      "{'id': 41, 'n': 10000, 'zeros': 3332, 'zeros_percentage': 33.32}\n",
      "Nodes:  10000\n",
      "{'id': 42, 'n': 10000, 'zeros': 3265, 'zeros_percentage': 32.65}\n",
      "Nodes:  10000\n",
      "{'id': 43, 'n': 10000, 'zeros': 3203, 'zeros_percentage': 32.029999999999994}\n",
      "Nodes:  10000\n",
      "{'id': 44, 'n': 10000, 'zeros': 3298, 'zeros_percentage': 32.98}\n",
      "Nodes:  10000\n",
      "{'id': 45, 'n': 10000, 'zeros': 3183, 'zeros_percentage': 31.830000000000002}\n",
      "Nodes:  10000\n",
      "{'id': 46, 'n': 10000, 'zeros': 3214, 'zeros_percentage': 32.14}\n",
      "Nodes:  10000\n",
      "{'id': 47, 'n': 10000, 'zeros': 3203, 'zeros_percentage': 32.029999999999994}\n",
      "Nodes:  10000\n",
      "{'id': 48, 'n': 10000, 'zeros': 3281, 'zeros_percentage': 32.81}\n",
      "Nodes:  10000\n",
      "{'id': 49, 'n': 10000, 'zeros': 3306, 'zeros_percentage': 33.06}\n"
     ]
    },
    {
     "data": {
      "text/plain": [
       "<Figure size 432x288 with 0 Axes>"
      ]
     },
     "metadata": {},
     "output_type": "display_data"
    }
   ],
   "source": [
    "graph_type = 'LFR'\n",
    "num_of_graphs =  50\n",
    "max_nodes = 10000\n",
    "min_nodes = 5000\n",
    "f = f\"./graphs/{graph_type}_{num_of_graphs}_graphs_{max_nodes}_nodes.pickle\"\n",
    "\n",
    "p = showing_zero_nodes(f)\n",
    "plotting(p,f'Betweenness({graph_type})')"
   ]
  },
  {
   "cell_type": "code",
   "execution_count": null,
   "metadata": {},
   "outputs": [],
   "source": []
  }
 ],
 "metadata": {
  "kernelspec": {
   "display_name": "DeepLearning",
   "language": "python",
   "name": "python3"
  },
  "language_info": {
   "codemirror_mode": {
    "name": "ipython",
    "version": 3
   },
   "file_extension": ".py",
   "mimetype": "text/x-python",
   "name": "python",
   "nbconvert_exporter": "python",
   "pygments_lexer": "ipython3",
   "version": "3.7.13"
  },
  "orig_nbformat": 4,
  "vscode": {
   "interpreter": {
    "hash": "836981034a4078c9f81aa3bbf2605e6a2991c189feb0614c725b1b8d5991d7f7"
   }
  }
 },
 "nbformat": 4,
 "nbformat_minor": 2
}
